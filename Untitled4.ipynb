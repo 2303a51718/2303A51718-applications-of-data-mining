{
  "nbformat": 4,
  "nbformat_minor": 0,
  "metadata": {
    "colab": {
      "provenance": [],
      "authorship_tag": "ABX9TyOZ98Hen6Lf7I4YlfWpnDfW",
      "include_colab_link": true
    },
    "kernelspec": {
      "name": "python3",
      "display_name": "Python 3"
    },
    "language_info": {
      "name": "python"
    }
  },
  "cells": [
    {
      "cell_type": "markdown",
      "metadata": {
        "id": "view-in-github",
        "colab_type": "text"
      },
      "source": [
        "<a href=\"https://colab.research.google.com/github/2303a51718/2303A51718-applications-of-data-mining/blob/main/Untitled4.ipynb\" target=\"_parent\"><img src=\"https://colab.research.google.com/assets/colab-badge.svg\" alt=\"Open In Colab\"/></a>"
      ]
    },
    {
      "cell_type": "code",
      "execution_count": 1,
      "metadata": {
        "id": "3eLMb3ojF5Cl"
      },
      "outputs": [],
      "source": [
        "import pandas as pd\n",
        "from sklearn.preprocessing import MinMaxScaler, StandardScaler"
      ]
    },
    {
      "cell_type": "code",
      "source": [
        "file_path = 'titanic.csv'\n",
        "df = pd.read_csv(file_path)"
      ],
      "metadata": {
        "id": "PcxcdkcKHF--"
      },
      "execution_count": 8,
      "outputs": []
    },
    {
      "cell_type": "code",
      "source": [
        "\n",
        "for column in df.select_dtypes(include=['number']).columns:\n",
        "    df[column].fillna(df[column].mean(), inplace=True)"
      ],
      "metadata": {
        "colab": {
          "base_uri": "https://localhost:8080/"
        },
        "id": "A2ebL99-HbRK",
        "outputId": "2038e76f-1609-49a6-86e5-c82dac8596b1"
      },
      "execution_count": 4,
      "outputs": [
        {
          "output_type": "stream",
          "name": "stderr",
          "text": [
            "<ipython-input-4-6a7d6d9c38fb>:3: FutureWarning: A value is trying to be set on a copy of a DataFrame or Series through chained assignment using an inplace method.\n",
            "The behavior will change in pandas 3.0. This inplace method will never work because the intermediate object on which we are setting values always behaves as a copy.\n",
            "\n",
            "For example, when doing 'df[col].method(value, inplace=True)', try using 'df.method({col: value}, inplace=True)' or df[col] = df[col].method(value) instead, to perform the operation inplace on the original object.\n",
            "\n",
            "\n",
            "  df[column].fillna(df[column].mean(), inplace=True)  # Mean imputation\n"
          ]
        }
      ]
    },
    {
      "cell_type": "code",
      "source": [
        "\n",
        "scaler = MinMaxScaler()\n",
        "\n"
      ],
      "metadata": {
        "id": "NpMnVJ21Hego"
      },
      "execution_count": 5,
      "outputs": []
    },
    {
      "cell_type": "code",
      "source": [
        "numeric_columns = df.select_dtypes(include=['number']).columns\n",
        "df[numeric_columns] = scaler.fit_transform(df[numeric_columns])\n"
      ],
      "metadata": {
        "id": "wxyOMa_-Hh-q"
      },
      "execution_count": 6,
      "outputs": []
    },
    {
      "cell_type": "code",
      "source": [
        "\n",
        "print(df.head())\n"
      ],
      "metadata": {
        "colab": {
          "base_uri": "https://localhost:8080/"
        },
        "id": "6WdsIwhTHk9e",
        "outputId": "8b705bab-38bf-445d-e199-081fa67c2f7b"
      },
      "execution_count": 7,
      "outputs": [
        {
          "output_type": "stream",
          "name": "stdout",
          "text": [
            "   PassengerId  Survived  Pclass  \\\n",
            "0     0.000000       0.0     1.0   \n",
            "1     0.001124       1.0     0.0   \n",
            "2     0.002247       1.0     1.0   \n",
            "3     0.003371       1.0     0.0   \n",
            "4     0.004494       0.0     1.0   \n",
            "\n",
            "                                                Name     Sex       Age  SibSp  \\\n",
            "0                            Braund, Mr. Owen Harris    male  0.271174  0.125   \n",
            "1  Cumings, Mrs. John Bradley (Florence Briggs Th...  female  0.472229  0.125   \n",
            "2                             Heikkinen, Miss. Laina  female  0.321438  0.000   \n",
            "3       Futrelle, Mrs. Jacques Heath (Lily May Peel)  female  0.434531  0.125   \n",
            "4                           Allen, Mr. William Henry    male  0.434531  0.000   \n",
            "\n",
            "   Parch            Ticket      Fare Cabin Embarked  \n",
            "0    0.0         A/5 21171  0.014151   NaN        S  \n",
            "1    0.0          PC 17599  0.139136   C85        C  \n",
            "2    0.0  STON/O2. 3101282  0.015469   NaN        S  \n",
            "3    0.0            113803  0.103644  C123        S  \n",
            "4    0.0            373450  0.015713   NaN        S  \n"
          ]
        }
      ]
    }
  ]
}